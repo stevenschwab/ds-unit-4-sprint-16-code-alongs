{
  "nbformat": 4,
  "nbformat_minor": 0,
  "metadata": {
    "colab": {
      "provenance": []
    },
    "kernelspec": {
      "name": "python3",
      "display_name": "Python 3"
    },
    "language_info": {
      "name": "python"
    }
  },
  "cells": [
    {
      "cell_type": "code",
      "execution_count": 3,
      "metadata": {
        "id": "fOnhzAa9M92M"
      },
      "outputs": [],
      "source": [
        "def solution(size):\n",
        "    matrix = [[0] * size for _ in range(size)]\n",
        "    for i in range(size):\n",
        "        matrix[i][i] = 1\n",
        "    return matrix\n",
        "\n",
        "\n",
        "# Create a square 2D array (list type in Python) of size size x size. Fill the array with 0's.\n",
        "# Then draw a line of 1's down the main diagonal.\n",
        "# This is called an identity matrix.\n",
        "\n",
        "# Example\n",
        "# Input: size = 4\n",
        "# Output: solution(4) =\n",
        "# [\n",
        "#     [1, 0, 0, 0],\n",
        "#     [0, 1, 0, 0],\n",
        "#     [0, 0, 1, 0],\n",
        "#     [0, 0, 0, 1]\n",
        "# ]"
      ]
    },
    {
      "cell_type": "code",
      "source": [
        "solution(4)"
      ],
      "metadata": {
        "colab": {
          "base_uri": "https://localhost:8080/"
        },
        "id": "KmEQ1s4YNJ0D",
        "outputId": "eb65ba28-ca27-469a-c67b-ecd2d47478e1"
      },
      "execution_count": 4,
      "outputs": [
        {
          "output_type": "execute_result",
          "data": {
            "text/plain": [
              "[[1, 0, 0, 0], [0, 1, 0, 0], [0, 0, 1, 0], [0, 0, 0, 1]]"
            ]
          },
          "metadata": {},
          "execution_count": 4
        }
      ]
    },
    {
      "cell_type": "code",
      "source": [
        "def solution(arr, row, col):\n",
        "  return sum(arr[row][col])\n",
        "\n",
        "# 3D Array - Depth Sum\n",
        "\n",
        "# Given a 3D array arr of integers, your task is to find the sum of the elements at row i and column j. In the most common visualization of 3D arrays, we can picture rows and columns of a (2D) spreadsheet and each cell having a \"depth\" extruded into space to create a prism-like structure.\n",
        "\n",
        "# So for this problem, the goal is to sum all elements in that third \"depth\" dimension at a particular row and column.\n",
        "\n",
        "# Hint: for a 3D array,\n",
        "## arr[i] returns a 2D array of all elements at row i\n",
        "## arr[i][j] returns a 1D array of all elements at row i, column j\n",
        "## arr[i][j][k] returns the integer at row i, column j, depth k\n",
        "\n",
        "# Knowing this, finding all of the array elements at row i, column j (and any depth) is straightforward. Once you've found the 1D array that contains all of these integers, just sum them up :)\n",
        "\n",
        "# Example\n",
        "\n",
        "# For arr = [[[1,  2,  3,  4,  0,  6],\n",
        "    #         [7,  0, -9, 10, 11, 12],\n",
        "    #         [0, 14, 15, 16, 17, 18]],\n",
        "    #        [[0,  1, 23, 17, 29, 13],\n",
        "    #         [1, -2,  3,  4,  5, -6],\n",
        "    #         [7,  0,  9,  8,  6,  1]]]\n",
        "#\n",
        "# row = 1\n",
        "# col = 2\n",
        "# the output should be:\n",
        "\n",
        "# solution(arr,1,2) = 31"
      ],
      "metadata": {
        "id": "88vSXFq9NpH6"
      },
      "execution_count": 10,
      "outputs": []
    },
    {
      "cell_type": "code",
      "source": [
        "arr = [[[1,  2,  3,  4,  0,  6],\n",
        "        [7,  0, -9, 10, 11, 12],\n",
        "        [0, 14, 15, 16, 17, 18]],\n",
        "       [[0,  1, 23, 17, 29, 13],\n",
        "        [1, -2,  3,  4,  5, -6],\n",
        "        [7,  0,  9,  8,  6,  1]]]\n",
        "\n",
        "solution(arr,1,2)"
      ],
      "metadata": {
        "colab": {
          "base_uri": "https://localhost:8080/"
        },
        "id": "yaukGqEIOUIN",
        "outputId": "9f0d57e9-874b-47b7-c08a-f86cc88cd5a5"
      },
      "execution_count": 11,
      "outputs": [
        {
          "output_type": "execute_result",
          "data": {
            "text/plain": [
              "31"
            ]
          },
          "metadata": {},
          "execution_count": 11
        }
      ]
    },
    {
      "cell_type": "code",
      "source": [
        "def solution(a, window_size):\n",
        "    result = []\n",
        "    for i in range(len(a) - window_size + 1):\n",
        "        window = a[i:i+window_size]\n",
        "        average = sum(window) / window_size\n",
        "        result.append(average)\n",
        "    return result\n",
        "\n",
        "# Write a function that moves a \"window\" over an array, averaging the values under the window as it goes.\n",
        "\n",
        "# For example, a window of size 3 moving across an array of length 9 might look like this for the first 3 moves (window is the bar over the values):\n",
        "\n",
        "#  _____\n",
        "#  6 2 8 3 7 9 1 0 5    Window over 6,2,8\n",
        "\n",
        "#    _____\n",
        "#  6 2 8 3 7 9 1 0 5    Window over 2,8,3\n",
        "\n",
        "#      _____\n",
        "#  6 2 8 3 7 9 1 0 5    Window over 8,3,7\n",
        "# Your goal is to return an array of averages of the values under the window as it moves.\n",
        "\n",
        "# Example\n",
        "# Input:\n",
        "\n",
        "# a == [20, 64, 73, 58, 74]\n",
        "# window_size == 4\n",
        "# Output:\n",
        "\n",
        "# [53.75, 67.25]"
      ],
      "metadata": {
        "id": "LdNRD6eSQCDd"
      },
      "execution_count": 14,
      "outputs": []
    },
    {
      "cell_type": "code",
      "source": [
        "solution([20, 64, 73, 58, 74], 4)"
      ],
      "metadata": {
        "colab": {
          "base_uri": "https://localhost:8080/"
        },
        "id": "jr0O427TQFoT",
        "outputId": "1ecf246c-337c-4293-eb60-b3e3f3fb024b"
      },
      "execution_count": 15,
      "outputs": [
        {
          "output_type": "execute_result",
          "data": {
            "text/plain": [
              "[53.75, 67.25]"
            ]
          },
          "metadata": {},
          "execution_count": 15
        }
      ]
    },
    {
      "cell_type": "code",
      "source": [
        "import string\n",
        "\n",
        "def alphabet(n):\n",
        "  return {i:j for i,j in enumerate(string.ascii_letters[:n])}\n",
        "\n",
        "# Build a dictionary to lookup the first n lowercase letters of the alphabet. The return value of alphabet(n) should be a dictionary where the keys are numbers 0 through n-1.\n",
        "\n",
        "# Hint: string.ascii_letters = 'abcdefghijklmnopqrstuvwxyzABCDEFGHIJKLMNOPQRSTUVWXYZ'\n",
        "# We have already imported the string library for you.returns a string constant containing the entire lowercase alphabet (26 letters).\n",
        "\n",
        "# Note: there are no performance gains to be gained from this kind of approach in the real world...it is just intended for practice working with the dictionary data structure :)\n",
        "\n",
        "# Test cases:\n",
        "lowercase = alphabet(26)\n",
        "print(lowercase[9]) # j\n",
        "\n",
        "both_cases = alphabet(52)\n",
        "print(both_cases[51]) # Z"
      ],
      "metadata": {
        "colab": {
          "base_uri": "https://localhost:8080/"
        },
        "id": "BsKOZ1hgQzlw",
        "outputId": "747d208b-5cd8-410f-ab07-958c23dba0ce"
      },
      "execution_count": 17,
      "outputs": [
        {
          "output_type": "stream",
          "name": "stdout",
          "text": [
            "j\n",
            "Z\n"
          ]
        }
      ]
    },
    {
      "cell_type": "code",
      "source": [
        "def fibonacci(n, fibMap={}):\n",
        "  if n in fibMap:\n",
        "    return fibMap[n]\n",
        "  if n <= 0:\n",
        "    return 0\n",
        "  if n == 1:\n",
        "    return 1\n",
        "  fibMap[n] = fibonacci(n-1, fibMap) + fibonacci(n-2, fibMap)\n",
        "  return fibMap[n]\n",
        "\n",
        "\n",
        "# The starter code is a naive recursive solution for the computing the nth number in the Fibonacci sequence.\n",
        "# Runtime complexity: O(2^n)\n",
        "# Space complexity: O(n)\n",
        "\n",
        "# This is a very commonly used example of repeated computations that can (and should!) be optimized with memoization, and the runtime problem is best illustrated by a tree diagram of fibonacci() calls. Google \"recursive fibonacci diagram\" in case you haven't seen that visual before.\n",
        "\n",
        "# The total number of calls to the fibonacci function grows exponentially as n increases, causing a major runtime issue that will grind things to a halt, even before n gets that large.\n",
        "\n",
        "# The easy fix here is to \"remember the answer\" to problems we've already solved, and this is called memoization. By simply keeping a dictionary of all the fibonacci values we've already calculated, then we'll avoid having to repeat that work again later on.\n",
        "\n",
        "# Specifically, the natural way to use a dictionary (hash map) data structure here is as a kind of lookup table. After finding a solution for a given n, store a key/value pair where the key is n and the value is fibonacci(n). Then when you need that solution to build up to a higher level in the sequence, look it up in the dictionary (a constant time operation!) rather than repeating all the work again.\n",
        "\n",
        "# Optimize this naive solution to implement this memoization approach, for a Fibonacci implementaiton with linear O(n) (rather than exponential) runtime.\n",
        "\n",
        "# Test cases:\n",
        "print(fibonacci(0)) # 0\n",
        "print(fibonacci(1)) # 1\n",
        "print(fibonacci(2)) # 1\n",
        "print(fibonacci(8)) # 21\n",
        "print(fibonacci(17)) # 1597\n",
        "print(fibonacci(58)) # 591286729879\n",
        "\n",
        "# Note: the final test case is commented out since it will blow up on even a very fast computer. With the memoized solution though, this test case will also run easily."
      ],
      "metadata": {
        "colab": {
          "base_uri": "https://localhost:8080/"
        },
        "id": "KFgIbdQVRYIZ",
        "outputId": "116b4940-04b0-4c56-8843-b4a054a1c884"
      },
      "execution_count": 19,
      "outputs": [
        {
          "output_type": "stream",
          "name": "stdout",
          "text": [
            "0\n",
            "1\n",
            "1\n",
            "21\n",
            "1597\n",
            "591286729879\n"
          ]
        }
      ]
    }
  ]
}